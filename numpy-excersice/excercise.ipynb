{
 "cells": [
  {
   "cell_type": "code",
   "execution_count": 16,
   "metadata": {},
   "outputs": [],
   "source": [
    "import numpy as np"
   ]
  },
  {
   "cell_type": "code",
   "execution_count": 15,
   "metadata": {},
   "outputs": [
    {
     "name": "stdout",
     "output_type": "stream",
     "text": [
      "2.1.0\n"
     ]
    }
   ],
   "source": [
    "print(np.__version__)"
   ]
  },
  {
   "cell_type": "code",
   "execution_count": 5,
   "metadata": {},
   "outputs": [
    {
     "data": {
      "text/plain": [
       "array([0., 0., 0., 0., 0., 0., 0., 0., 0., 0.])"
      ]
     },
     "execution_count": 5,
     "metadata": {},
     "output_type": "execute_result"
    }
   ],
   "source": [
    "# create a null vector of size 10\n",
    "null_vector = np.zeros(10)\n",
    "null_vector"
   ]
  },
  {
   "cell_type": "code",
   "execution_count": 14,
   "metadata": {},
   "outputs": [
    {
     "name": "stdout",
     "output_type": "stream",
     "text": [
      "itemsize: 8\n",
      "size: 3\n"
     ]
    }
   ],
   "source": [
    "# itemsize returns length of array elements in bytes. \n",
    "# itemsize returns the per-element and does not depend on the number of elements in the array.\n",
    "# size returns number of elemenys in array.\n",
    "# find the memory size of any array.\n",
    "\n",
    "array_1 = np.array([1, 2, 3])\n",
    "print(f\"itemsize:\", array_1.itemsize)\n",
    "print(f\"size:\", array_1.size)"
   ]
  },
  {
   "cell_type": "code",
   "execution_count": 17,
   "metadata": {},
   "outputs": [
    {
     "name": "stdout",
     "output_type": "stream",
     "text": [
      "add(x1, x2, /, out=None, *, where=True, casting='same_kind', order='K', dtype=None, subok=True[, signature])\n",
      "\n",
      "Add arguments element-wise.\n",
      "\n",
      "Parameters\n",
      "----------\n",
      "x1, x2 : array_like\n",
      "    The arrays to be added.\n",
      "    If ``x1.shape != x2.shape``, they must be broadcastable to a common\n",
      "    shape (which becomes the shape of the output).\n",
      "out : ndarray, None, or tuple of ndarray and None, optional\n",
      "    A location into which the result is stored. If provided, it must have\n",
      "    a shape that the inputs broadcast to. If not provided or None,\n",
      "    a freshly-allocated array is returned. A tuple (possible only as a\n",
      "    keyword argument) must have length equal to the number of outputs.\n",
      "where : array_like, optional\n",
      "    This condition is broadcast over the input. At locations where the\n",
      "    condition is True, the `out` array will be set to the ufunc result.\n",
      "    Elsewhere, the `out` array will retain its original value.\n",
      "    Note that if an uninitialized `out` array is created via the default\n",
      "    ``out=None``, locations within it where the condition is False will\n",
      "    remain uninitialized.\n",
      "**kwargs\n",
      "    For other keyword-only arguments, see the\n",
      "    :ref:`ufunc docs <ufuncs.kwargs>`.\n",
      "\n",
      "Returns\n",
      "-------\n",
      "add : ndarray or scalar\n",
      "    The sum of `x1` and `x2`, element-wise.\n",
      "    This is a scalar if both `x1` and `x2` are scalars.\n",
      "\n",
      "Notes\n",
      "-----\n",
      "Equivalent to `x1` + `x2` in terms of array broadcasting.\n",
      "\n",
      "Examples\n",
      "--------\n",
      ">>> import numpy as np\n",
      ">>> np.add(1.0, 4.0)\n",
      "5.0\n",
      ">>> x1 = np.arange(9.0).reshape((3, 3))\n",
      ">>> x2 = np.arange(3.0)\n",
      ">>> np.add(x1, x2)\n",
      "array([[  0.,   2.,   4.],\n",
      "       [  3.,   5.,   7.],\n",
      "       [  6.,   8.,  10.]])\n",
      "\n",
      "The ``+`` operator can be used as a shorthand for ``np.add`` on ndarrays.\n",
      "\n",
      ">>> x1 = np.arange(9.0).reshape((3, 3))\n",
      ">>> x2 = np.arange(3.0)\n",
      ">>> x1 + x2\n",
      "array([[ 0.,  2.,  4.],\n",
      "       [ 3.,  5.,  7.],\n",
      "       [ 6.,  8., 10.]])\n",
      "None\n"
     ]
    }
   ],
   "source": [
    "# get docs of `add` function\n",
    "print(np.info(np.add))"
   ]
  },
  {
   "cell_type": "code",
   "execution_count": 22,
   "metadata": {},
   "outputs": [
    {
     "name": "stdout",
     "output_type": "stream",
     "text": [
      "array with default dtype of float64:  [ 0.  0.  0.  0. 10.]\n",
      "array with specified dtype of int64:  [ 0  0  0  0 10]\n"
     ]
    }
   ],
   "source": [
    "# create a null vector with 5th element as 10\n",
    "array_2 = np.zeros(5)\n",
    "array_2[4] = 10\n",
    "print(f\"array with default dtype of float64: \", array_2)\n",
    "array_3 = np.zeros(5, dtype=np.int64)\n",
    "array_3[4] = 10\n",
    "print(f\"array with specified dtype of int64: \", array_3)"
   ]
  },
  {
   "cell_type": "code",
   "execution_count": 27,
   "metadata": {},
   "outputs": [
    {
     "name": "stdout",
     "output_type": "stream",
     "text": [
      "[10 11 12 13 14 15 16 17 18 19 20 21 22 23 24 25 26 27 28 29 30 31 32 33\n",
      " 34 35 36 37 38 39 40 41 42 43 44 45 46 47 48]\n"
     ]
    }
   ],
   "source": [
    "# create vector with values ranging from 10 to 49\n",
    "array_4 = np.arange(10, 49)\n",
    "print(array_4)"
   ]
  },
  {
   "cell_type": "code",
   "execution_count": 28,
   "metadata": {},
   "outputs": [
    {
     "data": {
      "text/plain": [
       "array([48, 47, 46, 45, 44, 43, 42, 41, 40, 39, 38, 37, 36, 35, 34, 33, 32,\n",
       "       31, 30, 29, 28, 27, 26, 25, 24, 23, 22, 21, 20, 19, 18, 17, 16, 15,\n",
       "       14, 13, 12, 11, 10])"
      ]
     },
     "execution_count": 28,
     "metadata": {},
     "output_type": "execute_result"
    }
   ],
   "source": [
    "# reverse a vector \n",
    "array_4[::-1]"
   ]
  },
  {
   "cell_type": "code",
   "execution_count": 35,
   "metadata": {},
   "outputs": [
    {
     "data": {
      "text/plain": [
       "array([[0, 1, 2],\n",
       "       [3, 4, 5],\n",
       "       [6, 7, 8]])"
      ]
     },
     "execution_count": 35,
     "metadata": {},
     "output_type": "execute_result"
    }
   ],
   "source": [
    "# create a array of 9 elements in a 3 x 3 matrix fashion\n",
    "array_5 = np.arange(9).reshape((3, 3))\n",
    "array_5"
   ]
  },
  {
   "cell_type": "code",
   "execution_count": 36,
   "metadata": {},
   "outputs": [
    {
     "name": "stdout",
     "output_type": "stream",
     "text": [
      "(array([0, 1, 4]),)\n"
     ]
    }
   ],
   "source": [
    "# indices of non zero elements \n",
    "print(np.nonzero(np.array([1,2,0,0,4,0])))\n"
   ]
  },
  {
   "cell_type": "code",
   "execution_count": 37,
   "metadata": {},
   "outputs": [
    {
     "data": {
      "text/plain": [
       "array([[1., 0., 0.],\n",
       "       [0., 1., 0.],\n",
       "       [0., 0., 1.]])"
      ]
     },
     "execution_count": 37,
     "metadata": {},
     "output_type": "execute_result"
    }
   ],
   "source": [
    "# create a 3x3 identity matrix \n",
    "np.eye(3)"
   ]
  },
  {
   "cell_type": "code",
   "execution_count": 43,
   "metadata": {},
   "outputs": [
    {
     "name": "stdout",
     "output_type": "stream",
     "text": [
      "[[[0.0319584  0.58304295 0.45276375]\n",
      "  [0.70323424 0.62780891 0.17640084]\n",
      "  [0.48071535 0.63279605 0.64944463]]\n",
      "\n",
      " [[0.64263526 0.56084928 0.54151571]\n",
      "  [0.12203141 0.0925441  0.22111354]\n",
      "  [0.62542097 0.56194691 0.56996772]]\n",
      "\n",
      " [[0.31426311 0.29121149 0.75208975]\n",
      "  [0.95439732 0.07851447 0.66549383]\n",
      "  [0.26872874 0.54696997 0.71943216]]]\n"
     ]
    }
   ],
   "source": [
    "# 3x3x3 array with randome values \n",
    "arr = np.random.random((3, 3, 3))\n",
    "print(arr)"
   ]
  },
  {
   "cell_type": "code",
   "execution_count": 47,
   "metadata": {},
   "outputs": [
    {
     "name": "stdout",
     "output_type": "stream",
     "text": [
      "[[0.19014069 0.59503832 0.08664106 0.95356334 0.39329127 0.54132707\n",
      "  0.60320345 0.93593637 0.65580849 0.65999178]\n",
      " [0.21303366 0.37174342 0.71610799 0.81763971 0.85341283 0.08765282\n",
      "  0.16141392 0.0855683  0.83598941 0.36690202]\n",
      " [0.43684849 0.43929749 0.3199661  0.31125295 0.53641555 0.49618885\n",
      "  0.15156727 0.19165624 0.52501708 0.22116054]\n",
      " [0.29495801 0.34051687 0.72758716 0.74494048 0.39244634 0.88994602\n",
      "  0.22072203 0.58069823 0.32960722 0.84139705]\n",
      " [0.27062796 0.24799894 0.40231275 0.03340486 0.24363001 0.898768\n",
      "  0.83908854 0.29268052 0.3992245  0.93794452]\n",
      " [0.86345111 0.20791049 0.00751821 0.38296529 0.77673633 0.12159687\n",
      "  0.9576846  0.40643641 0.38677169 0.15051162]\n",
      " [0.91907787 0.34387314 0.37401978 0.15990975 0.66110769 0.12150038\n",
      "  0.98373868 0.70028644 0.93613283 0.69566677]\n",
      " [0.60936143 0.3675396  0.88771975 0.4997005  0.98852639 0.00114523\n",
      "  0.89780614 0.76621799 0.77643998 0.19663805]\n",
      " [0.12367677 0.01155185 0.46990751 0.85261645 0.26362397 0.0907658\n",
      "  0.61989366 0.46099973 0.07502694 0.14771219]\n",
      " [0.72238282 0.88186925 0.26012613 0.62170531 0.83659763 0.73885305\n",
      "  0.04736364 0.44632643 0.38363855 0.95255381]]\n",
      "0.0011452262735450747\n",
      "0.9885263895804054\n"
     ]
    }
   ],
   "source": [
    "# 10x10 matrix with random value\n",
    "arr = np.random.random((10, 10))\n",
    "print(arr)\n",
    "print(arr.min())\n",
    "print(arr.max())"
   ]
  },
  {
   "cell_type": "code",
   "execution_count": null,
   "metadata": {},
   "outputs": [],
   "source": []
  },
  {
   "cell_type": "code",
   "execution_count": null,
   "metadata": {},
   "outputs": [],
   "source": []
  }
 ],
 "metadata": {
  "kernelspec": {
   "display_name": "Python 3",
   "language": "python",
   "name": "python3"
  },
  "language_info": {
   "codemirror_mode": {
    "name": "ipython",
    "version": 3
   },
   "file_extension": ".py",
   "mimetype": "text/x-python",
   "name": "python",
   "nbconvert_exporter": "python",
   "pygments_lexer": "ipython3",
   "version": "3.11.0"
  }
 },
 "nbformat": 4,
 "nbformat_minor": 2
}
